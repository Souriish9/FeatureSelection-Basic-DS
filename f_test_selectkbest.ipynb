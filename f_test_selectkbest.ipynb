{
  "nbformat": 4,
  "nbformat_minor": 0,
  "metadata": {
    "colab": {
      "provenance": [],
      "authorship_tag": "ABX9TyNYscO3iV6SXeS9aJFY3JAR",
      "include_colab_link": true
    },
    "kernelspec": {
      "name": "python3",
      "display_name": "Python 3"
    },
    "language_info": {
      "name": "python"
    }
  },
  "cells": [
    {
      "cell_type": "markdown",
      "metadata": {
        "id": "view-in-github",
        "colab_type": "text"
      },
      "source": [
        "<a href=\"https://colab.research.google.com/github/Souriish9/FeatureSelection-Basic-DS/blob/master/f_test_selectkbest.ipynb\" target=\"_parent\"><img src=\"https://colab.research.google.com/assets/colab-badge.svg\" alt=\"Open In Colab\"/></a>"
      ]
    },
    {
      "cell_type": "code",
      "execution_count": null,
      "metadata": {
        "id": "BsGMbr0ewZdP"
      },
      "outputs": [],
      "source": [
        "import pandas as pd"
      ]
    },
    {
      "cell_type": "code",
      "source": [
        "dataset=pd.read_csv('Students2.csv')"
      ],
      "metadata": {
        "id": "_RUztWMizuIU"
      },
      "execution_count": null,
      "outputs": []
    },
    {
      "cell_type": "code",
      "source": [
        "dataset.isnull().sum()"
      ],
      "metadata": {
        "colab": {
          "base_uri": "https://localhost:8080/"
        },
        "id": "sT1RCi4-z3qS",
        "outputId": "e4c7a88b-0d8c-4034-8006-b8fa5c888a1c"
      },
      "execution_count": null,
      "outputs": [
        {
          "output_type": "execute_result",
          "data": {
            "text/plain": [
              "Hours          0\n",
              "sHours         0\n",
              "hoursplayed    0\n",
              "income         0\n",
              "distance       0\n",
              "calories       0\n",
              "Marks          0\n",
              "dtype: int64"
            ]
          },
          "metadata": {},
          "execution_count": 12
        }
      ]
    },
    {
      "cell_type": "code",
      "source": [
        "X=dataset.iloc[:,:-1]\n",
        "Y=dataset.iloc[:,-1]"
      ],
      "metadata": {
        "id": "UwY7yVeSz92K"
      },
      "execution_count": null,
      "outputs": []
    },
    {
      "cell_type": "code",
      "source": [
        "from sklearn.model_selection import train_test_split as tts\n",
        "x_train,x_test,y_train,y_test=tts(X,Y,test_size=0.4,random_state=1234)"
      ],
      "metadata": {
        "id": "PKqLJD2c0GhB"
      },
      "execution_count": null,
      "outputs": []
    },
    {
      "cell_type": "code",
      "source": [
        "from sklearn.linear_model import LinearRegression\n",
        "lr=LinearRegression()"
      ],
      "metadata": {
        "id": "FOZHuZsX0gql"
      },
      "execution_count": null,
      "outputs": []
    },
    {
      "cell_type": "code",
      "source": [
        "lr.fit(x_train,y_train)"
      ],
      "metadata": {
        "colab": {
          "base_uri": "https://localhost:8080/"
        },
        "id": "gSKf5o7y0vPA",
        "outputId": "fb3819c3-ace3-4700-ef58-d3f4c6bd3aac"
      },
      "execution_count": null,
      "outputs": [
        {
          "output_type": "execute_result",
          "data": {
            "text/plain": [
              "LinearRegression()"
            ]
          },
          "metadata": {},
          "execution_count": 16
        }
      ]
    },
    {
      "cell_type": "code",
      "source": [
        "lr.score(x_test,y_test)"
      ],
      "metadata": {
        "colab": {
          "base_uri": "https://localhost:8080/"
        },
        "id": "dXx4O96S5X_j",
        "outputId": "d4eba9b4-5abf-4679-f996-2c36061fd937"
      },
      "execution_count": null,
      "outputs": [
        {
          "output_type": "execute_result",
          "data": {
            "text/plain": [
              "0.8427485982415691"
            ]
          },
          "metadata": {},
          "execution_count": 17
        }
      ]
    },
    {
      "cell_type": "code",
      "source": [
        "y_pred=lr.predict(x_test)"
      ],
      "metadata": {
        "id": "3rezmk1v00PX"
      },
      "execution_count": null,
      "outputs": []
    },
    {
      "cell_type": "code",
      "source": [
        "from sklearn.metrics import mean_squared_error\n",
        "import math\n",
        "\n",
        "rmse=math.sqrt(mean_squared_error(y_test,y_pred))"
      ],
      "metadata": {
        "id": "HLfaUck50982"
      },
      "execution_count": null,
      "outputs": []
    },
    {
      "cell_type": "code",
      "source": [
        "rmse"
      ],
      "metadata": {
        "colab": {
          "base_uri": "https://localhost:8080/"
        },
        "id": "pAj7WCXO1LV5",
        "outputId": "cdc7324c-e1f6-4c29-c4f4-583f64da1b2b"
      },
      "execution_count": null,
      "outputs": [
        {
          "output_type": "execute_result",
          "data": {
            "text/plain": [
              "6.9822067153575125"
            ]
          },
          "metadata": {},
          "execution_count": 20
        }
      ]
    },
    {
      "cell_type": "code",
      "source": [
        "from sklearn.feature_selection import f_regression as fr\n",
        "result=fr(X,Y)\n",
        "f_score=result[0]\n",
        "p_values=result[1]"
      ],
      "metadata": {
        "id": "gm84N1MN1T3l"
      },
      "execution_count": null,
      "outputs": []
    },
    {
      "cell_type": "code",
      "source": [
        "f_score"
      ],
      "metadata": {
        "colab": {
          "base_uri": "https://localhost:8080/"
        },
        "id": "A2AhJ6Z41x7k",
        "outputId": "4736701c-1546-4c53-acd3-bdb1610ea6f0"
      },
      "execution_count": null,
      "outputs": [
        {
          "output_type": "execute_result",
          "data": {
            "text/plain": [
              "array([1.41905913e+02, 4.57019756e+00, 1.44882087e-03, 1.59990513e-01,\n",
              "       3.16606568e-03, 4.04208927e-01])"
            ]
          },
          "metadata": {},
          "execution_count": 22
        }
      ]
    },
    {
      "cell_type": "code",
      "source": [
        "p_values"
      ],
      "metadata": {
        "colab": {
          "base_uri": "https://localhost:8080/"
        },
        "id": "1ZhmTrzl2jih",
        "outputId": "ab2d9d09-04fa-4c33-c109-d1fcf94e98fd"
      },
      "execution_count": null,
      "outputs": [
        {
          "output_type": "execute_result",
          "data": {
            "text/plain": [
              "array([1.77038466e-12, 4.14028344e-02, 9.69907241e-01, 6.92200477e-01,\n",
              "       9.55528076e-01, 5.30086171e-01])"
            ]
          },
          "metadata": {},
          "execution_count": 23
        }
      ]
    },
    {
      "cell_type": "code",
      "source": [
        "columns=list(X.columns)\n"
      ],
      "metadata": {
        "id": "fNHlXAGF278A"
      },
      "execution_count": null,
      "outputs": []
    },
    {
      "cell_type": "code",
      "source": [
        "for i in range(0,3,1):\n",
        "  print(\" \")\n",
        "\n",
        "print(\" Features \",\"        F-Score \",\"       P-Values\")\n",
        "print(\" ---------         --------         ---------\")\n",
        "\n",
        "for i in range(0,len(columns)):\n",
        "  f1=\"%4.2f\" %f_score[i]\n",
        "  p1=\"%2.6f\" % p_values[i]\n",
        "  print(\"   \",columns[i].ljust(12),f1.rjust(8),\"    \",p1.rjust(8))"
      ],
      "metadata": {
        "colab": {
          "base_uri": "https://localhost:8080/"
        },
        "id": "TLDgSiCP3K3Y",
        "outputId": "4b536368-c705-4059-f004-492ac94ca31c"
      },
      "execution_count": null,
      "outputs": [
        {
          "output_type": "stream",
          "name": "stdout",
          "text": [
            " \n",
            " \n",
            " \n",
            " Features          F-Score         P-Values\n",
            " ---------         --------         ---------\n",
            "    Hours          141.91      0.000000\n",
            "    sHours           4.57      0.041403\n",
            "    hoursplayed      0.00      0.969907\n",
            "    income           0.16      0.692200\n",
            "    distance         0.00      0.955528\n",
            "    calories         0.40      0.530086\n"
          ]
        }
      ]
    },
    {
      "cell_type": "code",
      "source": [
        "x_train_n=x_train[['Hours','sHours']]\n",
        "x_test_n=x_test[['Hours','sHours']]"
      ],
      "metadata": {
        "id": "BuG3XRL35QDM"
      },
      "execution_count": null,
      "outputs": []
    },
    {
      "cell_type": "code",
      "source": [
        "lr.fit(x_train_n,y_train)"
      ],
      "metadata": {
        "colab": {
          "base_uri": "https://localhost:8080/"
        },
        "id": "zGxRdjn_5wKx",
        "outputId": "ee947527-fdbd-40c4-bd55-a25d8bbeda85"
      },
      "execution_count": null,
      "outputs": [
        {
          "output_type": "execute_result",
          "data": {
            "text/plain": [
              "LinearRegression()"
            ]
          },
          "metadata": {},
          "execution_count": 27
        }
      ]
    },
    {
      "cell_type": "code",
      "source": [
        "lr.score(x_test_n,y_test)"
      ],
      "metadata": {
        "id": "P28wpv9d54TI",
        "outputId": "bdab7848-e1a2-4ff8-abe8-9468078886a8",
        "colab": {
          "base_uri": "https://localhost:8080/"
        }
      },
      "execution_count": null,
      "outputs": [
        {
          "output_type": "execute_result",
          "data": {
            "text/plain": [
              "0.9161939417709495"
            ]
          },
          "metadata": {},
          "execution_count": 28
        }
      ]
    },
    {
      "cell_type": "markdown",
      "source": [
        "# Select KBest"
      ],
      "metadata": {
        "id": "a2LxQCdjyLva"
      }
    },
    {
      "cell_type": "code",
      "source": [
        "from sklearn.feature_selection import SelectKBest,SelectPercentile,GenericUnivariateSelect,f_regression"
      ],
      "metadata": {
        "id": "hVEb2m4usvEm"
      },
      "execution_count": null,
      "outputs": []
    },
    {
      "cell_type": "code",
      "source": [
        "selectorK=SelectKBest(score_func=f_regression,k=3)"
      ],
      "metadata": {
        "id": "l1Lrz9kXud9f"
      },
      "execution_count": null,
      "outputs": []
    },
    {
      "cell_type": "code",
      "source": [
        "x_k=selectorK.fit_transform(X,Y)"
      ],
      "metadata": {
        "id": "kJjc92VJuwCS"
      },
      "execution_count": null,
      "outputs": []
    },
    {
      "cell_type": "code",
      "source": [
        "f_score=selectorK.scores_\n",
        "p_values=selectorK.pvalues_"
      ],
      "metadata": {
        "id": "e93-CRU5vB-k"
      },
      "execution_count": null,
      "outputs": []
    },
    {
      "cell_type": "code",
      "source": [
        "f_score"
      ],
      "metadata": {
        "colab": {
          "base_uri": "https://localhost:8080/"
        },
        "id": "gkHx8OdGvaKS",
        "outputId": "201ac98f-bc46-48f0-c1cb-f307a8b8818f"
      },
      "execution_count": null,
      "outputs": [
        {
          "output_type": "execute_result",
          "data": {
            "text/plain": [
              "array([1.41905913e+02, 4.57019756e+00, 1.44882087e-03, 1.59990513e-01,\n",
              "       3.16606568e-03, 4.04208927e-01])"
            ]
          },
          "metadata": {},
          "execution_count": 34
        }
      ]
    },
    {
      "cell_type": "code",
      "source": [
        "columns=list(X.columns)"
      ],
      "metadata": {
        "id": "HDRUfIbUvpuz"
      },
      "execution_count": null,
      "outputs": []
    },
    {
      "cell_type": "code",
      "source": [
        "for i in range(0,3,1):\n",
        "  print(\" \")\n",
        "\n",
        "print(\" Features \",\"        F-Score \",\"       P-Values\")\n",
        "print(\" ---------         --------         ---------\")\n",
        "\n",
        "for i in range(0,len(columns)):\n",
        "  f1=\"%4.2f\" %f_score[i]\n",
        "  p1=\"%2.6f\" % p_values[i]\n",
        "  print(\"   \",columns[i].ljust(12),f1.rjust(8),\"    \",p1.rjust(8))"
      ],
      "metadata": {
        "colab": {
          "base_uri": "https://localhost:8080/"
        },
        "id": "tPdWP4x-vq5L",
        "outputId": "7b6bd405-3fef-4f8f-840e-6a7addf72bd7"
      },
      "execution_count": null,
      "outputs": [
        {
          "output_type": "stream",
          "name": "stdout",
          "text": [
            " \n",
            " \n",
            " \n",
            " Features          F-Score         P-Values\n",
            " ---------         --------         ---------\n",
            "    Hours          141.91      0.000000\n",
            "    sHours           4.57      0.041403\n",
            "    hoursplayed      0.00      0.969907\n",
            "    income           0.16      0.692200\n",
            "    distance         0.00      0.955528\n",
            "    calories         0.40      0.530086\n"
          ]
        }
      ]
    },
    {
      "cell_type": "markdown",
      "source": [
        "Know the names of columns selected!"
      ],
      "metadata": {
        "id": "aNaHqjzRyGD0"
      }
    },
    {
      "cell_type": "code",
      "source": [
        "cols=selectorK.get_support(indices=True)\n",
        "selected_cols=X.columns[cols].tolist()\n",
        "selected_cols"
      ],
      "metadata": {
        "colab": {
          "base_uri": "https://localhost:8080/"
        },
        "id": "7b05aFMCv8cQ",
        "outputId": "c2de6b40-988e-42e8-c7a1-000ccfef842b"
      },
      "execution_count": null,
      "outputs": [
        {
          "output_type": "execute_result",
          "data": {
            "text/plain": [
              "['Hours', 'sHours', 'calories']"
            ]
          },
          "metadata": {},
          "execution_count": 38
        }
      ]
    },
    {
      "cell_type": "code",
      "source": [
        "selectorP=SelectPercentile(score_func=f_regression,percentile=50)\n",
        "x_p=selectorP.fit_transform(X,Y)"
      ],
      "metadata": {
        "id": "yEYrJe3Xywr4"
      },
      "execution_count": null,
      "outputs": []
    },
    {
      "cell_type": "markdown",
      "source": [
        "Generic Univariate Transform"
      ],
      "metadata": {
        "id": "7H_zfz71zTh_"
      }
    },
    {
      "cell_type": "code",
      "source": [
        "selectorG1=GenericUnivariateSelect(score_func=f_regression,mode='k_best',param=3)\n",
        "x_g1=selectorG1.fit_transform(X,Y)"
      ],
      "metadata": {
        "id": "vrQKWeJ6zSAn"
      },
      "execution_count": null,
      "outputs": []
    },
    {
      "cell_type": "code",
      "source": [
        "x_g1"
      ],
      "metadata": {
        "colab": {
          "base_uri": "https://localhost:8080/"
        },
        "id": "VbEcrH0-z6MP",
        "outputId": "bf117c5e-b4e3-4ea8-cf3c-9cb0f3071d70"
      },
      "execution_count": null,
      "outputs": [
        {
          "output_type": "execute_result",
          "data": {
            "text/plain": [
              "array([[   0,    6, 2491],\n",
              "       [   1,    7, 2303],\n",
              "       [   1,    6, 2475],\n",
              "       [   1,    8, 2282],\n",
              "       [   1,    8, 2359],\n",
              "       [   2,    8, 2354],\n",
              "       [   2,    6, 2943],\n",
              "       [   3,    6, 2119],\n",
              "       [   3,    7, 2511],\n",
              "       [   3,    7, 2666],\n",
              "       [   3,    8, 2934],\n",
              "       [   4,    8, 2838],\n",
              "       [   4,    7, 2102],\n",
              "       [   4,    7, 2560],\n",
              "       [   5,    8, 2068],\n",
              "       [   5,    6, 2541],\n",
              "       [   6,    6, 2690],\n",
              "       [   6,    7, 2956],\n",
              "       [   7,    8, 2239],\n",
              "       [   7,    8, 2703],\n",
              "       [   7,    6, 2603],\n",
              "       [   7,    6, 2031],\n",
              "       [   8,    7, 2885],\n",
              "       [   8,    8, 2153],\n",
              "       [   9,    8, 2384],\n",
              "       [   9,    5, 2882],\n",
              "       [   9,    8, 2271],\n",
              "       [  10,    8, 2264],\n",
              "       [  10,    8, 2522],\n",
              "       [  11,    7, 2279]])"
            ]
          },
          "metadata": {},
          "execution_count": 44
        }
      ]
    },
    {
      "cell_type": "code",
      "source": [
        "selectorG2=GenericUnivariateSelect(score_func=f_regression,mode='percentile',param=50)\n",
        "x_g2=selectorG2.fit_transform(X,Y)\n",
        "x_g2"
      ],
      "metadata": {
        "colab": {
          "base_uri": "https://localhost:8080/"
        },
        "id": "pUFbu8Y60BCF",
        "outputId": "067b779f-d776-4076-d7de-92d9a1c06aad"
      },
      "execution_count": null,
      "outputs": [
        {
          "output_type": "execute_result",
          "data": {
            "text/plain": [
              "array([[   0,    6, 2491],\n",
              "       [   1,    7, 2303],\n",
              "       [   1,    6, 2475],\n",
              "       [   1,    8, 2282],\n",
              "       [   1,    8, 2359],\n",
              "       [   2,    8, 2354],\n",
              "       [   2,    6, 2943],\n",
              "       [   3,    6, 2119],\n",
              "       [   3,    7, 2511],\n",
              "       [   3,    7, 2666],\n",
              "       [   3,    8, 2934],\n",
              "       [   4,    8, 2838],\n",
              "       [   4,    7, 2102],\n",
              "       [   4,    7, 2560],\n",
              "       [   5,    8, 2068],\n",
              "       [   5,    6, 2541],\n",
              "       [   6,    6, 2690],\n",
              "       [   6,    7, 2956],\n",
              "       [   7,    8, 2239],\n",
              "       [   7,    8, 2703],\n",
              "       [   7,    6, 2603],\n",
              "       [   7,    6, 2031],\n",
              "       [   8,    7, 2885],\n",
              "       [   8,    8, 2153],\n",
              "       [   9,    8, 2384],\n",
              "       [   9,    5, 2882],\n",
              "       [   9,    8, 2271],\n",
              "       [  10,    8, 2264],\n",
              "       [  10,    8, 2522],\n",
              "       [  11,    7, 2279]])"
            ]
          },
          "metadata": {},
          "execution_count": 47
        }
      ]
    }
  ]
}